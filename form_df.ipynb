{
 "cells": [
  {
   "cell_type": "code",
   "execution_count": 1,
   "metadata": {},
   "outputs": [
    {
     "name": "stderr",
     "output_type": "stream",
     "text": [
      "2022-04-20 18:48:34.539619: W tensorflow/stream_executor/platform/default/dso_loader.cc:64] Could not load dynamic library 'libcudart.so.11.0'; dlerror: libcudart.so.11.0: cannot open shared object file: No such file or directory\n",
      "2022-04-20 18:48:34.539666: I tensorflow/stream_executor/cuda/cudart_stub.cc:29] Ignore above cudart dlerror if you do not have a GPU set up on your machine.\n"
     ]
    }
   ],
   "source": [
    "from scipy.io import netcdf\n",
    "import numpy as np\n",
    "import matplotlib\n",
    "import matplotlib.pyplot as plt\n",
    "import netCDF4\n",
    "import os\n",
    "import tensorflow as tf\n",
    "import glob\n",
    "import pandas as pd"
   ]
  },
  {
   "cell_type": "code",
   "execution_count": 7,
   "metadata": {},
   "outputs": [],
   "source": [
    "def cross_corr(ts0, ts1):\n",
    "    return np.sum(ts0 * ts1) / (np.linalg.norm(ts0) * np.linalg.norm(ts1))"
   ]
  },
  {
   "cell_type": "code",
   "execution_count": 2,
   "metadata": {},
   "outputs": [],
   "source": [
    "path_data_train = '/home/user/Downloads/arctic_data/2012'\n",
    "path_data_test = '/home/user/Downloads/arctic_data/2013'"
   ]
  },
  {
   "cell_type": "code",
   "execution_count": 15,
   "metadata": {},
   "outputs": [
    {
     "data": {
      "text/plain": [
       "(24, 3, 3)"
      ]
     },
     "execution_count": 15,
     "metadata": {},
     "output_type": "execute_result"
    }
   ],
   "source": [
    "a = setting_nc.variables['icethic_cea'][:, predict_point[0]-1:predict_point[0]+2, predict_point[1]-1:predict_point[1]+2].data\n",
    "a.shape"
   ]
  },
  {
   "cell_type": "code",
   "execution_count": 3,
   "metadata": {},
   "outputs": [
    {
     "data": {
      "text/plain": [
       "(226, 203)"
      ]
     },
     "execution_count": 3,
     "metadata": {},
     "output_type": "execute_result"
    }
   ],
   "source": [
    "setting_nc = netCDF4.Dataset(os.path.join(path_data_train, 'ARCTIC_1h_ice_grid_TUV_20120101-20120101.nc'))\n",
    "setting_nc_shp = np.array(setting_nc.variables['nav_lon']).shape\n",
    "predict_point = (setting_nc_shp[0] // 2, setting_nc_shp[1] // 2)\n",
    "predict_point"
   ]
  },
  {
   "cell_type": "code",
   "execution_count": 14,
   "metadata": {},
   "outputs": [],
   "source": [
    "ts_train = []\n",
    "for filename in glob.glob(os.path.join(path_data_test, '*.nc')):\n",
    "    nc_file = netCDF4.Dataset(str(filename))\n",
    "    target_feature = nc_file.variables['icethic_cea'][:, predict_point[0]-1:predict_point[0]+2, predict_point[1]-1:predict_point[1]+2].data\n",
    "    try:\n",
    "        ts_train = np.vstack((ts_train, target_feature))\n",
    "    except:\n",
    "        ts_train = target_feature.copy()"
   ]
  },
  {
   "cell_type": "code",
   "execution_count": 15,
   "metadata": {},
   "outputs": [
    {
     "data": {
      "text/plain": [
       "(8760, 3, 3)"
      ]
     },
     "execution_count": 15,
     "metadata": {},
     "output_type": "execute_result"
    }
   ],
   "source": [
    "ts_train.shape"
   ]
  },
  {
   "cell_type": "code",
   "execution_count": 8,
   "metadata": {},
   "outputs": [],
   "source": [
    "corr_result = np.zeros((ts_train.shape[1], ts_train.shape[2]))\n",
    "for i in range(ts_train.shape[1]):\n",
    "    for j in range(ts_train.shape[2]):\n",
    "        corr_result[i][j] = cross_corr(ts_train[:, 1, 1], ts_train[:, i, j])"
   ]
  },
  {
   "cell_type": "code",
   "execution_count": 11,
   "metadata": {},
   "outputs": [
    {
     "data": {
      "text/plain": [
       "array([[0.99985623, 0.99983948, 0.99973708],\n",
       "       [0.99991161, 1.        , 0.99983829],\n",
       "       [0.99976689, 0.99974585, 0.99984926]])"
      ]
     },
     "execution_count": 11,
     "metadata": {},
     "output_type": "execute_result"
    }
   ],
   "source": [
    "corr_result"
   ]
  },
  {
   "cell_type": "code",
   "execution_count": 13,
   "metadata": {},
   "outputs": [],
   "source": [
    "np.savetxt(\"/home/user/Downloads/arctic_results/ts_test.csv\", ts_train.reshape((9, ts_train.shape[0])), delimiter=\",\")"
   ]
  },
  {
   "cell_type": "code",
   "execution_count": null,
   "metadata": {},
   "outputs": [],
   "source": []
  }
 ],
 "metadata": {
  "interpreter": {
   "hash": "916dbcbb3f70747c44a77c7bcd40155683ae19c65e1c03b4aa3499c5328201f1"
  },
  "kernelspec": {
   "display_name": "Python 3.8.10 64-bit",
   "language": "python",
   "name": "python3"
  },
  "language_info": {
   "codemirror_mode": {
    "name": "ipython",
    "version": 3
   },
   "file_extension": ".py",
   "mimetype": "text/x-python",
   "name": "python",
   "nbconvert_exporter": "python",
   "pygments_lexer": "ipython3",
   "version": "3.8.10"
  },
  "orig_nbformat": 4
 },
 "nbformat": 4,
 "nbformat_minor": 2
}
